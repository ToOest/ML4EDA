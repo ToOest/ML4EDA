{
 "cells": [
  {
   "cell_type": "markdown",
   "id": "focal-yugoslavia",
   "metadata": {},
   "source": [
    "# Pipeline for new Molecules"
   ]
  },
  {
   "cell_type": "code",
   "execution_count": 1,
   "id": "atomic-tuner",
   "metadata": {},
   "outputs": [],
   "source": [
    "import pandas as pd \n",
    "import numpy as np\n",
    "import pickle\n",
    "from sklearn.gaussian_process import GaussianProcessRegressor\n",
    "from sklearn.gaussian_process.kernels import ExpSineSquared, DotProduct, WhiteKernel, RationalQuadratic"
   ]
  },
  {
   "cell_type": "markdown",
   "id": "fixed-crisis",
   "metadata": {},
   "source": [
    "## 1. Generate SOAP Desciptors"
   ]
  },
  {
   "cell_type": "code",
   "execution_count": 2,
   "id": "published-bullet",
   "metadata": {},
   "outputs": [],
   "source": [
    "from dscribe.descriptors import SOAP\n",
    "import ase\n",
    "import matplotlib.pyplot as plt\n",
    "import ase.io\n",
    "import ase.io.xyz\n",
    "import numpy as np\n",
    "import sklearn\n",
    "from ase.build import molecule\n",
    "from ase.io import read\n",
    "from ase.visualize import view\n",
    "structures=[]\n",
    "### Read xyz files\n",
    "Ethanol = read(\"Ethanol.xyz\")\n",
    "Butane = read(\"Butane.xyz\")\n",
    "Difluoroethane = read(\"Difluoroethane.xyz\")\n",
    "Ethane = read(\"Ethane.xyz\")\n",
    "Phosphineborane = read(\"Phosphineborane.xyz\")\n",
    "# define all possible funcionals\n",
    "all_Functionals=['BP86_D3','PBE_D3','rPBE_D3','revPBE_D3','BLYP_D3','OLYP_D3','B97_D','B97_D3',\n",
    "'BP86_D4','BLYP_D4','PBEMBDrsSC','TPSS_D3','M06L_D3','revTPSS_D3','SCAN_D3','r2SCAN_D4',\n",
    "'TPSS_D4','B3LYP_D3','PBE0_D3','B3LYP_D4','PBE0_D4','PBE0MBDrsSC','M06_D30','M06_2X_D30',\n",
    "'TPSSH_D3','TPSSH_D4','CAM_B3LYP_D3','CAM_B3LYP_D4']\n",
    "# define functionals for the prediction (in this case the same as in testset II)\n",
    "Functional_names = [\"B3LYP_D3\",\"BLYP_D3\",\"BP86_D3\",\"PBE_D3\",\"B3LYP_D3\",\"PBE_D3\",\"SCAN_D3\",\"TPSS_D3\",\"BLYP_D3\",\"PBE_D3\",\"r2SCAN_D4\",\"B3LYP_D3\",\"PBE_D3\",\"SCAN_D3\"]\n",
    "\n",
    "\n",
    "# create number according to the functional used\n",
    "functional_number=[]\n",
    "for i in range(len(all_Functionals)):\n",
    "    functional_number.append(i)\n",
    "dict_func_numb = dict(zip(all_Functionals, functional_number))\n",
    "\n",
    "functional_number_new = []\n",
    "for functionals in Functional_names:\n",
    "    functional_number_new.append(dict_func_numb[functionals])\n",
    "\n",
    "# Define atoms participating in bond\n",
    "positions = [[0,1],[0,1],[0,1],[0,1],[0,1],[0,1],[0,1],[0,1],[0,1],[0,1],[0,1],[0,1],[0,1],[0,1]]\n",
    "\n",
    "structures = [Butane,Butane,Butane,Butane,Difluoroethane,Difluoroethane,Difluoroethane,Difluoroethane,Ethanol,Ethanol,Ethanol,Phosphineborane,Phosphineborane,Phosphineborane]\n",
    "species = ['Ag', 'Cl', 'Cu', 'B', 'Au', 'H', 'C', 'F', 'O', 'N','P']\n",
    "\n",
    "rcut = 3 # cut off for local region in A\n",
    "nmax = 6 # max num of radial basis functions\n",
    "lmax= 8 # max num of angular degree of spherical harmonics  \n",
    "soap = SOAP(\n",
    "    species=species,\n",
    "    periodic=False,\n",
    "    rcut=rcut,\n",
    "    nmax=nmax,\n",
    "    lmax=lmax,\n",
    "    average=\"outer\",\n",
    "    sparse=False,\n",
    ")\n",
    "\n",
    "feature_vectors = soap.create(structures, positions=positions, n_jobs=1)"
   ]
  },
  {
   "cell_type": "markdown",
   "id": "c1f070a9-cb93-4bb5-8642-c9ed324a1ef4",
   "metadata": {},
   "source": [
    "## 2. Perform PCA"
   ]
  },
  {
   "cell_type": "code",
   "execution_count": 3,
   "id": "asian-province",
   "metadata": {},
   "outputs": [
    {
     "name": "stdout",
     "output_type": "stream",
     "text": [
      "           PC0         PC1         PC2  Functional Number\n",
      "0   497.345511  317.698595   29.204545                 17\n",
      "1   497.345511  317.698595   29.204545                  4\n",
      "2   497.345511  317.698595   29.204545                  0\n",
      "3   497.345511  317.698595   29.204545                  1\n",
      "4    60.462207  123.968258  110.946482                 17\n",
      "5    60.462207  123.968258  110.946482                  1\n",
      "6    60.462207  123.968258  110.946482                 14\n",
      "7    60.462207  123.968258  110.946482                 11\n",
      "8   288.899096  170.402570    7.652962                  4\n",
      "9   288.899096  170.402570    7.652962                  1\n",
      "10  288.899096  170.402570    7.652962                 15\n",
      "11  315.119475   54.120426   -2.396575                 17\n",
      "12  315.119475   54.120426   -2.396575                  1\n",
      "13  315.119475   54.120426   -2.396575                 14\n"
     ]
    },
    {
     "data": {
      "image/png": "[encoded data removed]",
      "text/plain": [
       "<Figure size 640x480 with 1 Axes>"
      ]
     },
     "metadata": {},
     "output_type": "display_data"
    },
    {
     "data": {
      "text/plain": [
       "<Figure size 700x500 with 0 Axes>"
      ]
     },
     "metadata": {},
     "output_type": "display_data"
    }
   ],
   "source": [
    "import pickle\n",
    "filename = 'PCA_SOAP_bonding_only_w_P.sav'\n",
    "# load the model\n",
    "pca_reload = pickle.load(open(filename, 'rb'))\n",
    "\n",
    "descriptor = feature_vectors\n",
    "from sklearn.decomposition import PCA\n",
    "\n",
    "X= descriptor\n",
    "pca=pca_reload\n",
    "X_new = pca.transform(X)\n",
    "pcs = np.arange(len(pca.explained_variance_ratio_))+1\n",
    "size=22\n",
    "params = {'legend.fontsize': 'large',\n",
    "          'figure.figsize': (7,5),\n",
    "          'axes.labelsize': size,\n",
    "          'axes.titlesize': size,\n",
    "          'xtick.labelsize': size,\n",
    "          'ytick.labelsize': size,\n",
    "          'axes.titlepad': 10}\n",
    "plt.bar(pcs, pca.explained_variance_ratio_)\n",
    "plt.xlabel(\"Principal component\")\n",
    "plt.xticks(pcs)\n",
    "plt.ylabel(\"Variance ratio\")\n",
    "plt.rcParams.update(params)\n",
    "plt.savefig(\"PCA_variance_bonding_SOAP.png\", dpi=300, transparent=True, bbox_inches=\"tight\")\n",
    "fig=plt.figure()\n",
    "type(pca.explained_variance_ratio_)\n",
    "\n",
    "pcas = pd.DataFrame(pca.transform(X), columns=[\"PC%i\" % i for i in range(3)])\n",
    "functional_number = []\n",
    "pcas.insert(3, \"Functional Number\", functional_number_new)\n",
    "print (pcas)"
   ]
  },
  {
   "cell_type": "markdown",
   "id": "golden-share",
   "metadata": {},
   "source": [
    "## 3. Predict new Energies"
   ]
  },
  {
   "cell_type": "code",
   "execution_count": 4,
   "id": "scheduled-portland",
   "metadata": {},
   "outputs": [
    {
     "name": "stdout",
     "output_type": "stream",
     "text": [
      "           PC1         PC2         PC3  Functional Number     E_Pauli  \\\n",
      "0   497.345511  317.698595   29.204545                 17  198.745271   \n",
      "1   497.345511  317.698595   29.204545                  4  203.285540   \n",
      "2   497.345511  317.698595   29.204545                  0  195.729099   \n",
      "3   497.345511  317.698595   29.204545                  1  194.806589   \n",
      "4    60.462207  123.968258  110.946482                 17  588.518180   \n",
      "5    60.462207  123.968258  110.946482                  1  581.692399   \n",
      "6    60.462207  123.968258  110.946482                 14  573.758627   \n",
      "7    60.462207  123.968258  110.946482                 11  579.322396   \n",
      "8   288.899096  170.402570    7.652962                  4  652.428472   \n",
      "9   288.899096  170.402570    7.652962                  1  626.932986   \n",
      "10  288.899096  170.402570    7.652962                 15  607.161930   \n",
      "11  315.119475   54.120426   -2.396575                 17  441.589559   \n",
      "12  315.119475   54.120426   -2.396575                  1  436.180151   \n",
      "13  315.119475   54.120426   -2.396575                 14  418.250284   \n",
      "\n",
      "        E_Elek       E_Orb       E_tot    E_Disp  E_rel_Elek  E_rel_Disp  \n",
      "0  -136.198333 -180.708548 -119.924705 -1.763095   11.056366    0.378528  \n",
      "1  -136.281838 -183.747958 -118.933952 -2.189696   10.955231    0.474779  \n",
      "2  -135.714732 -179.676392 -121.199792 -1.537768   11.069856    0.326644  \n",
      "3  -136.316201 -181.555439 -124.141151 -1.076100   11.032208    0.223418  \n",
      "4  -422.223601 -627.651032 -464.887661 -3.531208   28.435733    1.316540  \n",
      "5  -422.680750 -629.745783 -472.579479 -1.845344   28.267600    0.847278  \n",
      "6  -419.438195 -596.274344 -443.474704 -1.520792   28.953262   -1.140403  \n",
      "7  -419.311399 -603.643523 -445.716807 -2.084280   28.790577    1.005578  \n",
      "8  -443.754648 -614.709552 -412.552224 -6.516496   34.740890    1.942461  \n",
      "9  -444.048291 -605.568558 -425.836697 -3.152834   34.979823    0.923638  \n",
      "10 -435.550822 -568.088344 -397.625977 -1.148741   35.803073   -0.167510  \n",
      "11 -315.728725 -394.475494 -272.904717 -4.290057   35.615403    3.017163  \n",
      "12 -315.889597 -398.285761 -280.736594 -2.741387   35.163665    1.700690  \n",
      "13 -308.581596 -376.310139 -267.476035 -0.834583   35.645596    0.255995  \n"
     ]
    }
   ],
   "source": [
    "#print (new_molecules)\n",
    "filename = 'final_KRR_regression_w_P.sav'\n",
    "KRR_regr = pickle.load(open(filename, 'rb'))\n",
    "\n",
    "pcas = pcas.rename(columns={'PC0': 'PC1', 'PC1': 'PC2', 'PC2': 'PC3'})\n",
    "EDA_predict = KRR_regr.predict(pcas)\n",
    "\n",
    "EDA_pred = pd.DataFrame(EDA_predict,columns=[\"E_Pauli\",\"E_Elek\",\"E_Orb\",\"E_tot\",\"E_Disp\", \"E_rel_Elek\", \"E_rel_Disp\"])\n",
    "EDA_pred = pd.concat([pcas,EDA_pred],axis=1)\n",
    "print (EDA_pred)"
   ]
  },
  {
   "cell_type": "markdown",
   "id": "neutral-possession",
   "metadata": {},
   "source": [
    "## 4. Classify "
   ]
  },
  {
   "cell_type": "code",
   "execution_count": 5,
   "id": "silent-career",
   "metadata": {},
   "outputs": [
    {
     "name": "stdout",
     "output_type": "stream",
     "text": [
      "Predicted bond classes: [2 4 4 4 1 1 1 1 1 1 1 2 2 2]\n",
      "Bond class 1: covalent\n",
      "Bond class 2: main-group donor-acceptor\n",
      "Bond class 3: transitionmetal donor-acceptor\n",
      "Bond class 4: H-bound\n"
     ]
    }
   ],
   "source": [
    "import pickle\n",
    "# Normalization \n",
    "test_train_I = pd.read_csv(\"test_train_I.csv\")\n",
    "MIN = test_train_I.min()\n",
    "MAX = test_train_I.max()\n",
    "EDA_pred_norm = (EDA_pred-MIN)/(MAX-MIN)\n",
    "filename = 'final_MLPClassifier_4_classes_w_XC.sav'\n",
    "MLPC = pickle.load(open(filename, 'rb'))\n",
    "class_pred = MLPC.predict(EDA_pred_norm.loc[:,\"Functional Number\":\"E_rel_Disp\"])\n",
    "print (\"Predicted bond classes:\", class_pred)\n",
    "print (\"Bond class 1: covalent\")\n",
    "print (\"Bond class 2: main-group donor-acceptor\")\n",
    "print (\"Bond class 3: transitionmetal donor-acceptor\")\n",
    "print (\"Bond class 4: H-bound\")"
   ]
  },
  {
   "cell_type": "code",
   "execution_count": null,
   "id": "integral-dublin",
   "metadata": {},
   "outputs": [],
   "source": []
  },
  {
   "cell_type": "markdown",
   "id": "threaded-dealer",
   "metadata": {},
   "source": []
  },
  {
   "cell_type": "code",
   "execution_count": null,
   "id": "terminal-likelihood",
   "metadata": {},
   "outputs": [],
   "source": [
    "\n"
   ]
  },
  {
   "cell_type": "markdown",
   "id": "specialized-coating",
   "metadata": {},
   "source": []
  },
  {
   "cell_type": "code",
   "execution_count": null,
   "id": "anticipated-birmingham",
   "metadata": {},
   "outputs": [],
   "source": []
  },
  {
   "cell_type": "code",
   "execution_count": null,
   "id": "surgical-international",
   "metadata": {},
   "outputs": [],
   "source": []
  },
  {
   "cell_type": "code",
   "execution_count": null,
   "id": "basic-gossip",
   "metadata": {},
   "outputs": [],
   "source": []
  },
  {
   "cell_type": "code",
   "execution_count": null,
   "id": "entitled-health",
   "metadata": {},
   "outputs": [],
   "source": []
  },
  {
   "cell_type": "code",
   "execution_count": null,
   "id": "bacterial-cabin",
   "metadata": {},
   "outputs": [],
   "source": []
  }
 ],
 "metadata": {
  "kernelspec": {
   "display_name": "ML4EDA",
   "language": "python",
   "name": "ml4eda"
  },
  "language_info": {
   "codemirror_mode": {
    "name": "ipython",
    "version": 3
   },
   "file_extension": ".py",
   "mimetype": "text/x-python",
   "name": "python",
   "nbconvert_exporter": "python",
   "pygments_lexer": "ipython3",
   "version": "3.9.15"
  }
 },
 "nbformat": 4,
 "nbformat_minor": 5
}
